{
  "cells": [
    {
      "cell_type": "markdown",
      "metadata": {
        "id": "view-in-github",
        "colab_type": "text"
      },
      "source": [
        "<a href=\"https://colab.research.google.com/github/Jasonliima/Banco-de-dados/blob/main/aula1_poo_intro.ipynb\" target=\"_parent\"><img src=\"https://colab.research.google.com/assets/colab-badge.svg\" alt=\"Open In Colab\"/></a>"
      ]
    },
    {
      "cell_type": "markdown",
      "id": "85469bd9",
      "metadata": {
        "id": "85469bd9"
      },
      "source": [
        "\n",
        "# 📚 Aula 1 – Introdução ao Paradigma de Programação Orientada a Objetos (POO)\n",
        "\n",
        "Nesta aula, você vai aprender:\n",
        "\n",
        "- O que é POO e por que surgiu.  \n",
        "- Diferenças entre programação estruturada e orientada a objetos.  \n",
        "- Os elementos básicos: **classe, objeto, atributo, método e mensagem**.  \n"
      ]
    },
    {
      "cell_type": "markdown",
      "id": "becf8da6",
      "metadata": {
        "id": "becf8da6"
      },
      "source": [
        "\n",
        "## 🚦 1. Problema da Complexidade\n",
        "Imagine que você precise criar um programa para gerenciar **100 alunos** de uma escola.  \n",
        "Na programação **estruturada**, você teria que criar várias variáveis e funções soltas:\n",
        "\n",
        "```python\n",
        "# Exemplo de estilo procedural\n",
        "aluno1_nome = \"Maria\"\n",
        "aluno1_idade = 15\n",
        "\n",
        "aluno2_nome = \"João\"\n",
        "aluno2_idade = 16\n",
        "\n",
        "def exibir_aluno(nome, idade):\n",
        "    print(f\"Aluno: {nome}, Idade: {idade}\")\n",
        "\n",
        "exibir_aluno(aluno1_nome, aluno1_idade)\n",
        "exibir_aluno(aluno2_nome, aluno2_idade)\n",
        "```\n",
        "\n",
        "Isso funciona, mas em **sistemas grandes** fica confuso e difícil de manter.  \n",
        "É aí que entra a **Programação Orientada a Objetos (POO)**.\n"
      ]
    },
    {
      "cell_type": "markdown",
      "id": "5a7fc01c",
      "metadata": {
        "id": "5a7fc01c"
      },
      "source": [
        "\n",
        "## 🏗️ 2. Conceitos Fundamentais\n",
        "\n",
        "- **Classe** → é o **molde** de um objeto.  \n",
        "- **Objeto** → é a **instância** de uma classe.  \n",
        "- **Atributos** → são as **características** do objeto.  \n",
        "- **Instâncias** → são as **objetos** criados a partir da classes.\n",
        "- **Métodos** → são as **ações** que o objeto pode executar.  \n",
        "- **Mensagens** → representam a **comunicação entre objetos** (quando chamamos métodos).  \n"
      ]
    },
    {
      "cell_type": "markdown",
      "id": "bb5825c4",
      "metadata": {
        "id": "bb5825c4"
      },
      "source": [
        "## 🚗 3. Exemplo Prático: Classe `Carro`"
      ]
    },
    {
      "cell_type": "code",
      "execution_count": null,
      "id": "11b19e18",
      "metadata": {
        "colab": {
          "base_uri": "https://localhost:8080/"
        },
        "id": "11b19e18",
        "outputId": "c12fbf27-da80-4e3b-a23c-07987f72c8ea"
      },
      "outputs": [
        {
          "output_type": "stream",
          "name": "stdout",
          "text": [
            "O carro Fusca de cor Vermelho está acelerando!\n",
            "O carro Civic está freando.\n"
          ]
        }
      ],
      "source": [
        "\n",
        "# Definição da classe\n",
        "class Carro:\n",
        "    # Atributos (inicialização)\n",
        "    def __init__(self, cor, modelo):\n",
        "        self.cor = cor\n",
        "        self.modelo = modelo\n",
        "\n",
        "    # Métodos (ações)\n",
        "    def acelerar(self):\n",
        "        print(f\"O carro {self.modelo} está acelerando!\")\n",
        "\n",
        "    def frear(self):\n",
        "        print(f\"O carro {self.modelo} está freando.\")\n",
        "\n",
        "# Criando objetos (instâncias da classe Carro)\n",
        "meuCarro = Carro(\"Vermelho\", \"Fusca\")\n",
        "carro2 = Carro(\"Azul\", \"Civic\")\n",
        "\n",
        "# Enviando mensagens (chamando métodos)\n",
        "meuCarro.acelerar()\n",
        "carro2.frear()\n",
        "\n"
      ]
    },
    {
      "cell_type": "markdown",
      "id": "0362148f",
      "metadata": {
        "id": "0362148f"
      },
      "source": [
        "\n",
        "## ✍️ 4. Atividade Guiada\n",
        "\n",
        "Crie uma classe chamada `Aluno` que tenha:\n",
        "- Atributos: `nome`, `idade`  \n",
        "- Métodos: `estudar()` e `apresentar()`  \n",
        "\n",
        "Depois, crie um objeto `aluno1` e chame seus métodos.\n",
        "\n",
        "👉 Use a célula de código abaixo:\n"
      ]
    },
    {
      "cell_type": "code",
      "execution_count": null,
      "id": "48bf8f3a",
      "metadata": {
        "id": "48bf8f3a"
      },
      "outputs": [],
      "source": [
        "\n",
        "# Sua implementação aqui\n",
        "\n",
        "class Aluno:\n",
        "    pass  # substitua pelo código\n"
      ]
    },
    {
      "cell_type": "markdown",
      "id": "0a8ec1bf",
      "metadata": {
        "id": "0a8ec1bf"
      },
      "source": [
        "\n",
        "## 🏆 5. Estudo de Caso\n",
        "\n",
        "Modele uma classe `Animal` com atributos `nome` e `tipo`,  \n",
        "e um método `emitir_som()` que imprime um som diferente para cada animal.  \n",
        "\n",
        "Crie dois objetos (ex.: cachorro e gato) e faça-os se comunicar chamando seus métodos.\n"
      ]
    },
    {
      "cell_type": "markdown",
      "id": "e393c021",
      "metadata": {
        "id": "e393c021"
      },
      "source": [
        "\n",
        "## ✅ Resumo da Aula\n",
        "\n",
        "- POO surgiu para lidar com a **complexidade** dos sistemas grandes.  \n",
        "- Pensamos no mundo em termos de **objetos**.  \n",
        "- Todo objeto tem: **atributos (dados)** e **métodos (comportamentos)**.  \n",
        "- A comunicação entre objetos acontece por **mensagens**.  \n",
        "\n",
        "Na próxima aula, veremos como aprofundar em **atributos, métodos e encapsulamento**.\n"
      ]
    }
  ],
  "metadata": {
    "colab": {
      "provenance": [],
      "include_colab_link": true
    },
    "language_info": {
      "name": "python"
    },
    "kernelspec": {
      "name": "python3",
      "display_name": "Python 3"
    }
  },
  "nbformat": 4,
  "nbformat_minor": 5
}